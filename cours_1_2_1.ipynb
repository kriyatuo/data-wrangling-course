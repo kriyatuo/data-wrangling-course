{
 "cells": [
  {
   "cell_type": "code",
   "execution_count": 1,
   "metadata": {},
   "outputs": [
    {
     "name": "stdout",
     "output_type": "stream",
     "text": [
      "Bonjour, le monde !\n"
     ]
    }
   ],
   "source": [
    "print(\"Bonjour, le monde !\")"
   ]
  },
  {
   "cell_type": "code",
   "execution_count": 2,
   "metadata": {},
   "outputs": [
    {
     "name": "stdout",
     "output_type": "stream",
     "text": [
      "x est égal à 1\n"
     ]
    }
   ],
   "source": [
    "x=1\n",
    "if x == 1:\n",
    "    # Indenté ... et remarquez comment Jupyter Notebook s'est automatiquement indenté pour vous\n",
    "    print(\"x est égal à 1\")"
   ]
  },
  {
   "cell_type": "code",
   "execution_count": 3,
   "metadata": {},
   "outputs": [
    {
     "name": "stdout",
     "output_type": "stream",
     "text": [
      "7\n"
     ]
    }
   ],
   "source": [
    "myint = 7\n",
    "print(myint)"
   ]
  },
  {
   "cell_type": "code",
   "execution_count": 4,
   "metadata": {},
   "outputs": [
    {
     "name": "stdout",
     "output_type": "stream",
     "text": [
      "7.0\n",
      "7.0\n"
     ]
    }
   ],
   "source": [
    "myfloat = 7.0\n",
    "print(myfloat)\n",
    "# Ou vous pourriez convertir l'entier que vous avez déjà\n",
    "myfloat = float(myint)\n",
    "# Notez que le terme \"float\" est vert. C'est un terme protégé.\n",
    "print(myfloat)"
   ]
  },
  {
   "cell_type": "code",
   "execution_count": 5,
   "metadata": {},
   "outputs": [
    {
     "name": "stdout",
     "output_type": "stream",
     "text": [
      "7\n"
     ]
    }
   ],
   "source": [
    "# Maintenant, voyez ce qui se passe quand vous convertissez un float en un int\n",
    "myint = int(7.3)\n",
    "print(myint)"
   ]
  },
  {
   "cell_type": "code",
   "execution_count": 6,
   "metadata": {},
   "outputs": [
    {
     "name": "stdout",
     "output_type": "stream",
     "text": [
      "Bonjour, le monde !\n",
      "'Parlons des apostrophes...'\n"
     ]
    }
   ],
   "source": [
    "mystring = \"Bonjour, le monde !\"\n",
    "print(mystring)\n",
    "# et en montrant comment utiliser une apostrophe dans une chaîne\n",
    "mystring = \"'Parlons des apostrophes...'\"\n",
    "print(mystring)"
   ]
  },
  {
   "cell_type": "code",
   "execution_count": 7,
   "metadata": {},
   "outputs": [
    {
     "name": "stdout",
     "output_type": "stream",
     "text": [
      "3\n",
      "Bonjour, le monde !\n",
      "3 4\n"
     ]
    }
   ],
   "source": [
    "one = 1\n",
    "two = 2\n",
    "three = one + two\n",
    "print(three)\n",
    "\n",
    "hello = \"Bonjour,\"\n",
    "world = \"le monde !\"\n",
    "helloworld = hello + \" \" + world\n",
    "print(helloworld)\n",
    "\n",
    "a, b = 3, 4\n",
    "print(a, b)"
   ]
  },
  {
   "cell_type": "code",
   "execution_count": 8,
   "metadata": {},
   "outputs": [
    {
     "name": "stdout",
     "output_type": "stream",
     "text": [
      "Variable non formatée : 33.33333333333333%\n",
      "Variable formatée : 33.333%\n",
      "Variable formatée en espace :       33.3%\n"
     ]
    }
   ],
   "source": [
    "variable = 1/3 * 100\n",
    "print(F\"Variable non formatée : {variable}%\")\n",
    "print(F\"Variable formatée : {variable:.3f}%\")\n",
    "print(F\"Variable formatée en espace : {variable:10.1f}%\")"
   ]
  },
  {
   "cell_type": "code",
   "execution_count": 11,
   "metadata": {},
   "outputs": [
    {
     "name": "stdout",
     "output_type": "stream",
     "text": [
      "1\n",
      "3\n",
      "[2, 3]\n",
      "1\n",
      "2\n",
      "3\n"
     ]
    }
   ],
   "source": [
    "mylist = []\n",
    "mylist.append(1)\n",
    "mylist.append(2)\n",
    "mylist.append(3)\n",
    "# Chaque élément d'une liste peut être abordé directement. \n",
    "# La première adresse dans une liste Python commence à 0\n",
    "print(mylist[0])\n",
    "# Le dernier élément d'une liste Python peut être adressé comme -1. \n",
    "# Ceci est utile lorsque vous ne savez pas quelle sera la longueur de la liste.\n",
    "print(mylist[-1])\n",
    "# Vous pouvez également sélectionner des sous-ensembles de données dans une liste comme celle-ci\n",
    "print(mylist[1:3])\n",
    "\n",
    "# Vous pouvez aussi faire une boucle dans une liste en utilisant une instruction \"for\".\n",
    "# Notez que `x` est une nouvelle variable qui prend la valeur de chaque élément de la liste dans l'ordre.\n",
    "for x in mylist:\n",
    "    print(x)"
   ]
  },
  {
   "cell_type": "code",
   "execution_count": 12,
   "metadata": {},
   "outputs": [
    {
     "name": "stdout",
     "output_type": "stream",
     "text": [
      "Nombre de noms dans la liste : 10\n",
      "Nombre de noms nettoyés dans la liste : 4\n",
      "1. Eric\n",
      "2. Jessica\n",
      "3. John\n",
      "4. Lois\n"
     ]
    }
   ],
   "source": [
    "# Imaginons que nous ayons une liste de noms non ordonnés qui, d'une manière ou d'une autre, comporte des numéros aléatoires.\n",
    "# Pour cet exercice, nous voulons imprimer la liste alphabétique des noms sans les numéros.\n",
    "# Ce n'est pas la meilleure façon de faire l'exercice, mais cela illustrera tout un tas de techniques.\n",
    "names = [\"John\", 3234, 2342, 3323, \"Eric\", 234, \"Jessica\", 734978234, \"Lois\", 2384]\n",
    "print(F\"Nombre de noms dans la liste : {len(names)}\")\n",
    "# D'abord, débarrassons-nous de tous les entiers bizarres.\n",
    "new_names = []\n",
    "for n in names:\n",
    "    if isinstance(n, str):\n",
    "        # Vérifier si n est une chaîne de caractères\n",
    "        # Et notez que nous sommes maintenant deux fois en retrait dans cette nouvelle composante\n",
    "        new_names.append(n)\n",
    "# Nous ne devrions maintenant avoir que des noms dans la nouvelle liste. Faisons un tri..\n",
    "new_names.sort()\n",
    "print(F\"Nombre de noms nettoyés dans la liste : {len(new_names)}\")\n",
    "# Enfin, imprimons-les.\n",
    "for i, n in enumerate(new_names):\n",
    "    # En utilisant à la fois i et n dans une chaîne de caractères formatée\n",
    "    # Ajout de 1 à i car les listes commencent à 0\n",
    "    print(F\"{i+1}. {n}\")"
   ]
  },
  {
   "cell_type": "code",
   "execution_count": 13,
   "metadata": {},
   "outputs": [
    {
     "name": "stdout",
     "output_type": "stream",
     "text": [
      "{'John': {'Phone': '012 794 794', 'Email': 'john@email.com'}, 'Jill': {'Phone': '012 345 345', 'Email': 'jill@email.com'}, 'Joss': {'Phone': '012 321 321', 'Email': 'joss@email.com'}}\n"
     ]
    }
   ],
   "source": [
    "phonebook = {}\n",
    "phonebook[\"John\"] = {\"Phone\": \"012 794 794\",\n",
    "                     \"Email\": \"john@email.com\"}\n",
    "phonebook[\"Jill\"] = {\"Phone\": \"012 345 345\",\n",
    "                     \"Email\": \"jill@email.com\"}\n",
    "phonebook[\"Joss\"] = {\"Phone\": \"012 321 321\",\n",
    "                     \"Email\": \"joss@email.com\"}\n",
    "print(phonebook)"
   ]
  },
  {
   "cell_type": "code",
   "execution_count": 14,
   "metadata": {},
   "outputs": [
    {
     "name": "stdout",
     "output_type": "stream",
     "text": [
      "Hello, World! None\n",
      "Hello, World! Bob\n",
      "Arg 1: Alice\n",
      "Arg 2: Bob\n",
      "Arg 3: Carol\n",
      "Arg 4: Dave\n",
      "Alice - Engineer\n",
      "Bob - Consultant\n",
      "Carol - Lawyer\n",
      "Dave - Doctor\n",
      "Hello, World!\n"
     ]
    },
    {
     "data": {
      "text/plain": [
       "True"
      ]
     },
     "execution_count": 14,
     "metadata": {},
     "output_type": "execute_result"
    }
   ],
   "source": [
    "# Une démonstration de tous ces nouveaux concepts\n",
    "\n",
    "class demoClass:\n",
    "    \"\"\"\n",
    "    Une classe de démonstration avec une fonction __init__, et une fonction qui prend les args et les kwargs.\n",
    "    \"\"\"\n",
    "    \n",
    "    def __init__(self, argument = None):\n",
    "        \"\"\"\n",
    "        Une fonction qui est appelée automatiquement lorsque la démoClass est initialisée.\n",
    "        \"\"\"\n",
    "        self.demo_variable = \"Hello, World!\"\n",
    "        self.initial_variable = argument\n",
    "        \n",
    "    def demo_class(self, *args, **kwargs):\n",
    "        \"\"\"\n",
    "        Une classe de démo qui passe en boucle tous les args et kwargs fournis et les imprime.\n",
    "        \"\"\"\n",
    "        for i, a in enumerate(args):\n",
    "            print(\"Arg {}: {}\".format(i+1, a))\n",
    "        for k, v in kwargs.items():\n",
    "            print(\"{} - {}\".format(k, v))\n",
    "        if kwargs.get(self.initial_variable):\n",
    "            print(self.demo_variable)\n",
    "        return True\n",
    "\n",
    "demo1 = demoClass()\n",
    "demo2 = demoClass(\"Bob\")\n",
    "\n",
    "# Qu'est-ce qui a été initialisé dans chaque objet de démonstration ?\n",
    "print(demo1.demo_variable, demo1.initial_variable)\n",
    "print(demo2.demo_variable, demo2.initial_variable)\n",
    "\n",
    "# Une démo d'arguments de passage et d'arguments de mots-clés\n",
    "args = [\"Alice\", \"Bob\", \"Carol\", \"Dave\"]\n",
    "kwargs = {\"Alice\": \"Engineer\",\n",
    "          \"Bob\": \"Consultant\",\n",
    "          \"Carol\": \"Lawyer\",\n",
    "          \"Dave\": \"Doctor\"\n",
    "         }\n",
    "demo2.demo_class(*args, **kwargs)"
   ]
  },
  {
   "cell_type": "code",
   "execution_count": null,
   "metadata": {},
   "outputs": [],
   "source": []
  }
 ],
 "metadata": {
  "kernelspec": {
   "display_name": "Python 3",
   "language": "python",
   "name": "python3"
  },
  "language_info": {
   "codemirror_mode": {
    "name": "ipython",
    "version": 3
   },
   "file_extension": ".py",
   "mimetype": "text/x-python",
   "name": "python",
   "nbconvert_exporter": "python",
   "pygments_lexer": "ipython3",
   "version": "3.7.0"
  }
 },
 "nbformat": 4,
 "nbformat_minor": 2
}
