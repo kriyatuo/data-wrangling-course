{
 "cells": [
  {
   "cell_type": "code",
   "execution_count": 57,
   "metadata": {},
   "outputs": [],
   "source": [
    "import whyqd as _w\n",
    "schema = _w.Schema()\n",
    "\n",
    "details = {\n",
    "        \"name\": \"human-development-report\",\n",
    "        \"title\": \"UN Human Development Report 2007 - 2008\",\n",
    "        \"description\": \"\"\"\n",
    "        En 1990, le premier rapport sur le développement humain a introduit une nouvelle approche pour\n",
    "        faire progresser le bien-être de l'homme. Le développement humain - ou l'approche du développement humain - consiste à\n",
    "        l'élargissement de la richesse de la vie humaine, plutôt que simplement de la richesse de l'économie dans laquelle\n",
    "        les êtres humains vivent. Il s'agit d'une approche axée sur les personnes, leurs possibilités et leurs choix.\"\"\"\n",
    "}\n",
    "schema = _w.Schema()\n",
    "schema.set_details(**details)"
   ]
  },
  {
   "cell_type": "code",
   "execution_count": 58,
   "metadata": {},
   "outputs": [],
   "source": [
    "fields = [\n",
    "    {\n",
    "        \"name\":\"HDI_rank\",\n",
    "        \"title\": \"HDI_rank\",\n",
    "        \"type\":\"integer\",\n",
    "        \"description\":\"Indice de Developpement Humain.\"\n",
    "    },\n",
    "    {\n",
    "        \"name\":\"Country\",\n",
    "        \"title\": \"Country\",\n",
    "        \"type\":\"string\",\n",
    "        \"description\":\"nom de l'un des 177 pays ici mentionné.\",\n",
    "        \"constraints\": {\n",
    "            \"required\": True\n",
    "        }\n",
    "    },\n",
    "    {\n",
    "        \"name\":\"Gender-related development index Rank\",\n",
    "        \"title\": \"Gender-related development index Rank\",\n",
    "        \"type\":\"integer\",\n",
    "        \"description\":\"rang de l'Indice de développement lié au relation de genre\"\n",
    "    },\n",
    "    {\n",
    "        \"name\":\"Gender-related development index Value\",\n",
    "        \"title\": \"Gender-related development index Value\",\n",
    "        \"type\":\"number\",\n",
    "        \"description\":\"valeur de l'Indice de développement lié au relation de genre.\"\n",
    "    },\n",
    "    {\n",
    "        \"name\":\"Life expectancy at birth (years) 2005 Female\",\n",
    "        \"title\": \"Life expectancy at birth (years) 2005 Female\",\n",
    "        \"type\":\"number\",\n",
    "        \"description\":\"Espérance de vie à la naissance des femmes (années) 2005\"\n",
    "    },\n",
    "    {\n",
    "        \"name\":\"Life expectancy at birth (years) 2005 Male\",\n",
    "        \"title\": \"Life expectancy at birth (years) 2005 Male\",\n",
    "        \"type\":\"number\",\n",
    "        \"decription\":\"Espérance de vie à la naissance des hommes (années) 2005\"\n",
    "    },\n",
    "    {\n",
    "        \"name\":\"Life expectancy at birth (years) 2005 Male\",\"Adult literacy ratea (% aged 15 and older) 1995-2005 Female\",\n",
    "        \"title\": \"Adult literacy ratea (% aged 15 and older) 1995-2005 Female\",\n",
    "        \"type\":\"number\",\n",
    "        \"description\":\"Ratio d'alphabétisation des adultes femmes (% 15 ans et plus) 1995-2005\"\n",
    "    },\n",
    "    {\n",
    "        \"name\":\"Adult literacy ratea (% aged 15 and older) 1995-2005 Male\",\n",
    "        \"title\": \"Adult literacy ratea (% aged 15 and older) 1995-2005 Male\",\n",
    "        \"type\":\"number\",\n",
    "        \"description\":\"Ratio d'alphabétisation des adultes hommes (% 15 ans et plus) 1995-2005\"\n",
    "    },\n",
    "    {\n",
    "        \"name\":\"Combined gross enrolment ratio for primary, secondary and tertiary education (%) 2005 Female\",\n",
    "        \"title\": \"Combined gross enrolment ratio for primary, secondary and tertiary education (%) 2005 Female\",\n",
    "        \"type\":\"integer\",\n",
    "        \"description\":\"Taux brut de scolarisation combiné pour l'enseignement primaire, secondaire et supérieur (%) 2005 Femmes\"\n",
    "    },\n",
    "    {\n",
    "        \"name\":\"Combined gross enrolment ratio for primary, secondary and tertiary education (%) 2005 Male\",\n",
    "        \"title\": \"Combined gross enrolment ratio for primary, secondary and tertiary education (%) 2005 Male\",\n",
    "        \"type\":\"integer\",\n",
    "        \"description\":\"Taux brut de scolarisation combiné pour l'enseignement primaire, secondaire et supérieur (%) 2005 Hommes\"\n",
    "    },\n",
    "    {\n",
    "        \"name\":\"Estimated earned incomec (PPP US$) 2005 Female\",\n",
    "        \"title\": \"Estimated earned incomec (PPP US$) 2005 Female\",\n",
    "        \"type\":\"number\",\n",
    "        \"description\":\"Estimation des revenus gagnés (PPA US $) 2005 Femmes\"\n",
    "    },\n",
    "    {\n",
    "        \"name\":\"Estimated earned incomec (PPP US$) 2005 Male\",\n",
    "        \"title\": \"Estimated earned incomec (PPP US$) 2005 Male\",\n",
    "        \"type\":\"number\",\n",
    "        \"description\":\"Estimation des revenus gagnés (PPA US $) 2005 Hommes\"\n",
    "    },\n",
    "    {\n",
    "        \"name\":\"HDI rank minus GDI rank\",\n",
    "        \"title\": \"HDI rank minus GDI rank\",\n",
    "        \"type\":\"integer\",\n",
    "        \"description\":\"Classement HDI moins classement GDI\"\n",
    "    },\n",
    "    {\n",
    "        \"name\":\"development level\",\n",
    "        \"title\": \"development level\",\n",
    "        \"type\":\"string\",\n",
    "        \"description\":\"Niveau de developpement\"\n",
    "    },\n",
    "]\n",
    "for field in fields:\n",
    "    schema.set_field(**field)   "
   ]
  },
  {
   "cell_type": "code",
   "execution_count": 59,
   "metadata": {},
   "outputs": [
    {
     "data": {
      "text/plain": [
       "{'name': 'country',\n",
       " 'type': 'string',\n",
       " 'constraints': {'required': True},\n",
       " 'title': 'Country',\n",
       " 'description': \"nom de l'un des 177 pays ici mentionné.\"}"
      ]
     },
     "execution_count": 59,
     "metadata": {},
     "output_type": "execute_result"
    }
   ],
   "source": [
    "schema.field(\"country\")"
   ]
  },
  {
   "cell_type": "code",
   "execution_count": 60,
   "metadata": {},
   "outputs": [
    {
     "data": {
      "text/plain": [
       "True"
      ]
     },
     "execution_count": 60,
     "metadata": {},
     "output_type": "execute_result"
    }
   ],
   "source": [
    "# pour enregistrer notre schéma dans un répertoire spécifique\n",
    "directory = r\"C:\\Users\\Toure Kriya\\Documents\\GitHub\\desktop-tutorial\\.\"\n",
    "# vous pouvez également spécifier un nom de fichier facultatif\n",
    "# si vous l'omettez, le nom du fichier sera par défaut le nom du schéma\n",
    "filename = \"human-development-report-schema\"\n",
    "# si le fichier existe déjà, vous devrez spécifier \"overwrite=True\" sinon vous obtiendrez une erreur\n",
    "schema.save(directory, filename=filename, overwrite=True)"
   ]
  },
  {
   "cell_type": "code",
   "execution_count": 65,
   "metadata": {},
   "outputs": [
    {
     "data": {
      "text/html": [
       "<style>pre { white-space: pre !important; }</style>"
      ],
      "text/plain": [
       "<IPython.core.display.HTML object>"
      ]
     },
     "metadata": {},
     "output_type": "display_data"
    }
   ],
   "source": [
    "### Les importations et paramètres suivants vous permettent d'obtenir un large éventail de résultats pour vos tableaux\n",
    "from IPython.core.display import HTML\n",
    "display(HTML(\"<style>pre { white-space: pre !important; }</style>\"))\n",
    "\n",
    "import numpy as np\n",
    "import whyqd as _w\n",
    "\n",
    "SCHEMA_SOURCE = \".human-development-report-schema.json\"\n",
    "DIRECTORY = \".\"\n",
    "INPUT_DATA = [\n",
    "    \"HDR 2007-2008 Table 28.xlsx\"\n",
    "]\n",
    "method = _w.Method(SCHEMA_SOURCE, directory=DIRECTORY, input_data=INPUT_DATA)"
   ]
  },
  {
   "cell_type": "code",
   "execution_count": 66,
   "metadata": {},
   "outputs": [
    {
     "name": "stdout",
     "output_type": "stream",
     "text": [
      "\n",
      "\n",
      "Data id: a9800468-f12e-456b-8255-04e697aa5991\n",
      "Original source: HDR 2007-2008 Table 28.xlsx\n",
      "\n",
      "====  ============  ============  ============  ==================================  ============  ============  ============  ===========================  ============  ============  =============  =============  =============  =============  =============  =============  =============  =============  =============  ==========================  =============  =============  =============  =============  =============  =============  =============  =============  =============  =============  =============  =============  =============\n",
      "  ..    Unnamed: 0    Unnamed: 1    Unnamed: 2    Gender-related development index    Unnamed: 4    Unnamed: 5    Unnamed: 6    Life expectancy at birth     Unnamed: 8    Unnamed: 9    Unnamed: 10    Unnamed: 11    Unnamed: 12    Unnamed: 13    Unnamed: 14    Unnamed: 15    Unnamed: 16    Unnamed: 17    Unnamed: 18    Estimated earned incomec    Unnamed: 20    Unnamed: 21    Unnamed: 22    Unnamed: 23    Unnamed: 24    Unnamed: 25    Unnamed: 26    Unnamed: 27    Unnamed: 28    Unnamed: 29    Unnamed: 30    Unnamed: 31    Unnamed: 32\n",
      "                                                                             (GDI)                                                                (years)                                                                                                                                                                                      (PPP US$)\n",
      "                                                                                                                                                     2005                                                                                                                                                                                           2005\n",
      "====  ============  ============  ============  ==================================  ============  ============  ============  ===========================  ============  ============  =============  =============  =============  =============  =============  =============  =============  =============  =============  ==========================  =============  =============  =============  =============  =============  =============  =============  =============  =============  =============  =============  =============  =============\n",
      "   0           nan           nan           nan                                 nan           nan           nan           nan                          nan           nan           nan            nan            nan            nan            nan            nan            nan            nan            nan            nan                         nan            nan            nan            nan            nan            nan            nan            nan            nan            nan            nan            nan            nan            nan\n",
      "   1           nan           nan           nan                                 nan           nan           nan           nan                          nan           nan           nan            nan            nan            nan            nan            nan            nan            nan            nan            nan                         nan            nan            nan            nan            nan            nan            nan            nan            nan            nan            nan            nan            nan            nan\n",
      "   2           nan           nan           nan                                 nan           nan           nan           nan                          nan           nan           nan            nan            nan            nan            nan            nan            nan            nan            nan            nan                         nan            nan            nan            nan            nan            nan            nan            nan            nan            nan            nan            nan            nan            nan\n",
      "====  ============  ============  ============  ==================================  ============  ============  ============  ===========================  ============  ============  =============  =============  =============  =============  =============  =============  =============  =============  =============  ==========================  =============  =============  =============  =============  =============  =============  =============  =============  =============  =============  =============  =============  =============\n",
      "\n"
     ]
    }
   ],
   "source": [
    "print(method.print_input_data())"
   ]
  },
  {
   "cell_type": "code",
   "execution_count": 67,
   "metadata": {},
   "outputs": [
    {
     "data": {
      "text/plain": [
       "['CATEGORISE', 'DEBLANK', 'DEDUPE', 'DELETE', 'MELT', 'REBASE', 'RENAME']"
      ]
     },
     "execution_count": 67,
     "metadata": {},
     "output_type": "execute_result"
    }
   ],
   "source": [
    "method.default_morph_types"
   ]
  },
  {
   "cell_type": "code",
   "execution_count": 68,
   "metadata": {},
   "outputs": [
    {
     "data": {
      "text/plain": [
       "{'name': 'CATEGORISE',\n",
       " 'title': 'Categorise',\n",
       " 'type': 'morph',\n",
       " 'description': 'Convert row-level categories into column categorisations.',\n",
       " 'structure': ['rows', 'column_names']}"
      ]
     },
     "execution_count": 68,
     "metadata": {},
     "output_type": "execute_result"
    }
   ],
   "source": [
    "# A titre d'exemple :\n",
    "method.default_morph_settings(\"CATEGORISE\")"
   ]
  },
  {
   "cell_type": "code",
   "execution_count": 69,
   "metadata": {},
   "outputs": [
    {
     "data": {
      "text/html": [
       "<div>\n",
       "<style scoped>\n",
       "    .dataframe tbody tr th:only-of-type {\n",
       "        vertical-align: middle;\n",
       "    }\n",
       "\n",
       "    .dataframe tbody tr th {\n",
       "        vertical-align: top;\n",
       "    }\n",
       "\n",
       "    .dataframe thead th {\n",
       "        text-align: right;\n",
       "    }\n",
       "</style>\n",
       "<table border=\"1\" class=\"dataframe\">\n",
       "  <thead>\n",
       "    <tr style=\"text-align: right;\">\n",
       "      <th></th>\n",
       "      <th>Unnamed: 0</th>\n",
       "      <th>Unnamed: 1</th>\n",
       "      <th>Unnamed: 2</th>\n",
       "      <th>Gender-related development index\\n(GDI)</th>\n",
       "      <th>Unnamed: 4</th>\n",
       "      <th>Unnamed: 5</th>\n",
       "      <th>Unnamed: 6</th>\n",
       "      <th>Life expectancy at birth \\n(years)\\n2005</th>\n",
       "      <th>Unnamed: 8</th>\n",
       "      <th>Unnamed: 9</th>\n",
       "      <th>...</th>\n",
       "      <th>Unnamed: 23</th>\n",
       "      <th>Unnamed: 24</th>\n",
       "      <th>Unnamed: 25</th>\n",
       "      <th>Unnamed: 26</th>\n",
       "      <th>Unnamed: 27</th>\n",
       "      <th>Unnamed: 28</th>\n",
       "      <th>Unnamed: 29</th>\n",
       "      <th>Unnamed: 30</th>\n",
       "      <th>Unnamed: 31</th>\n",
       "      <th>Unnamed: 32</th>\n",
       "    </tr>\n",
       "  </thead>\n",
       "  <tbody>\n",
       "    <tr>\n",
       "      <th>0</th>\n",
       "      <td>NaN</td>\n",
       "      <td>NaN</td>\n",
       "      <td>NaN</td>\n",
       "      <td>NaN</td>\n",
       "      <td>NaN</td>\n",
       "      <td>NaN</td>\n",
       "      <td>NaN</td>\n",
       "      <td>NaN</td>\n",
       "      <td>NaN</td>\n",
       "      <td>NaN</td>\n",
       "      <td>...</td>\n",
       "      <td>NaN</td>\n",
       "      <td>NaN</td>\n",
       "      <td>NaN</td>\n",
       "      <td>NaN</td>\n",
       "      <td>NaN</td>\n",
       "      <td>NaN</td>\n",
       "      <td>NaN</td>\n",
       "      <td>NaN</td>\n",
       "      <td>NaN</td>\n",
       "      <td>NaN</td>\n",
       "    </tr>\n",
       "    <tr>\n",
       "      <th>1</th>\n",
       "      <td>NaN</td>\n",
       "      <td>NaN</td>\n",
       "      <td>NaN</td>\n",
       "      <td>NaN</td>\n",
       "      <td>NaN</td>\n",
       "      <td>NaN</td>\n",
       "      <td>NaN</td>\n",
       "      <td>NaN</td>\n",
       "      <td>NaN</td>\n",
       "      <td>NaN</td>\n",
       "      <td>...</td>\n",
       "      <td>NaN</td>\n",
       "      <td>NaN</td>\n",
       "      <td>NaN</td>\n",
       "      <td>NaN</td>\n",
       "      <td>NaN</td>\n",
       "      <td>NaN</td>\n",
       "      <td>NaN</td>\n",
       "      <td>NaN</td>\n",
       "      <td>NaN</td>\n",
       "      <td>NaN</td>\n",
       "    </tr>\n",
       "    <tr>\n",
       "      <th>2</th>\n",
       "      <td>NaN</td>\n",
       "      <td>NaN</td>\n",
       "      <td>NaN</td>\n",
       "      <td>NaN</td>\n",
       "      <td>NaN</td>\n",
       "      <td>NaN</td>\n",
       "      <td>NaN</td>\n",
       "      <td>NaN</td>\n",
       "      <td>NaN</td>\n",
       "      <td>NaN</td>\n",
       "      <td>...</td>\n",
       "      <td>NaN</td>\n",
       "      <td>NaN</td>\n",
       "      <td>NaN</td>\n",
       "      <td>NaN</td>\n",
       "      <td>NaN</td>\n",
       "      <td>NaN</td>\n",
       "      <td>NaN</td>\n",
       "      <td>NaN</td>\n",
       "      <td>NaN</td>\n",
       "      <td>NaN</td>\n",
       "    </tr>\n",
       "    <tr>\n",
       "      <th>3</th>\n",
       "      <td>HDI</td>\n",
       "      <td>COUNTRY</td>\n",
       "      <td>NaN</td>\n",
       "      <td>Rank</td>\n",
       "      <td>NaN</td>\n",
       "      <td>Value</td>\n",
       "      <td>NaN</td>\n",
       "      <td>Female</td>\n",
       "      <td>NaN</td>\n",
       "      <td>Male</td>\n",
       "      <td>...</td>\n",
       "      <td>HDI rank minus GDI rank d</td>\n",
       "      <td>CATEGORIE HDI</td>\n",
       "      <td>NaN</td>\n",
       "      <td>NaN</td>\n",
       "      <td>NaN</td>\n",
       "      <td>NaN</td>\n",
       "      <td>NaN</td>\n",
       "      <td>NaN</td>\n",
       "      <td>NaN</td>\n",
       "      <td>NaN</td>\n",
       "    </tr>\n",
       "    <tr>\n",
       "      <th>4</th>\n",
       "      <td>1</td>\n",
       "      <td>Iceland</td>\n",
       "      <td>NaN</td>\n",
       "      <td>1</td>\n",
       "      <td>NaN</td>\n",
       "      <td>0.962</td>\n",
       "      <td>NaN</td>\n",
       "      <td>83.1</td>\n",
       "      <td>NaN</td>\n",
       "      <td>79.9</td>\n",
       "      <td>...</td>\n",
       "      <td>0</td>\n",
       "      <td>HIGH HUMAIN DEVELOPMENT</td>\n",
       "      <td>NaN</td>\n",
       "      <td>NaN</td>\n",
       "      <td>NaN</td>\n",
       "      <td>NaN</td>\n",
       "      <td>NaN</td>\n",
       "      <td>NaN</td>\n",
       "      <td>NaN</td>\n",
       "      <td>NaN</td>\n",
       "    </tr>\n",
       "  </tbody>\n",
       "</table>\n",
       "<p>5 rows × 33 columns</p>\n",
       "</div>"
      ],
      "text/plain": [
       "  Unnamed: 0 Unnamed: 1 Unnamed: 2 Gender-related development index\\n(GDI)  \\\n",
       "0        NaN        NaN        NaN                                     NaN   \n",
       "1        NaN        NaN        NaN                                     NaN   \n",
       "2        NaN        NaN        NaN                                     NaN   \n",
       "3        HDI    COUNTRY        NaN                                    Rank   \n",
       "4          1    Iceland        NaN                                       1   \n",
       "\n",
       "  Unnamed: 4 Unnamed: 5 Unnamed: 6 Life expectancy at birth \\n(years)\\n2005  \\\n",
       "0        NaN        NaN        NaN                                      NaN   \n",
       "1        NaN        NaN        NaN                                      NaN   \n",
       "2        NaN        NaN        NaN                                      NaN   \n",
       "3        NaN      Value        NaN                                   Female   \n",
       "4        NaN      0.962        NaN                                     83.1   \n",
       "\n",
       "  Unnamed: 8 Unnamed: 9  ...                Unnamed: 23  \\\n",
       "0        NaN        NaN  ...                        NaN   \n",
       "1        NaN        NaN  ...                        NaN   \n",
       "2        NaN        NaN  ...                        NaN   \n",
       "3        NaN       Male  ...  HDI rank minus GDI rank d   \n",
       "4        NaN       79.9  ...                          0   \n",
       "\n",
       "               Unnamed: 24 Unnamed: 25 Unnamed: 26 Unnamed: 27 Unnamed: 28  \\\n",
       "0                      NaN         NaN         NaN         NaN         NaN   \n",
       "1                      NaN         NaN         NaN         NaN         NaN   \n",
       "2                      NaN         NaN         NaN         NaN         NaN   \n",
       "3            CATEGORIE HDI         NaN         NaN         NaN         NaN   \n",
       "4  HIGH HUMAIN DEVELOPMENT         NaN         NaN         NaN         NaN   \n",
       "\n",
       "  Unnamed: 29 Unnamed: 30 Unnamed: 31 Unnamed: 32  \n",
       "0         NaN         NaN         NaN         NaN  \n",
       "1         NaN         NaN         NaN         NaN  \n",
       "2         NaN         NaN         NaN         NaN  \n",
       "3         NaN         NaN         NaN         NaN  \n",
       "4         NaN         NaN         NaN         NaN  \n",
       "\n",
       "[5 rows x 33 columns]"
      ]
     },
     "execution_count": 69,
     "metadata": {},
     "output_type": "execute_result"
    }
   ],
   "source": [
    "# Utilisez _id, ou une autre variable, puisque `id` est un terme protégé par Python\n",
    "_id = method.input_data[0][\"id\"]\n",
    "df = method.input_dataframe(_id)\n",
    "df.head()"
   ]
  },
  {
   "cell_type": "code",
   "execution_count": 55,
   "metadata": {},
   "outputs": [],
   "source": [
    "method.reset_input_data_morph(_id)"
   ]
  },
  {
   "cell_type": "code",
   "execution_count": 70,
   "metadata": {},
   "outputs": [
    {
     "data": {
      "text/plain": [
       "['CATEGORISE', 'DEBLANK', 'DEDUPE', 'DELETE', 'MELT', 'REBASE', 'RENAME']"
      ]
     },
     "execution_count": 70,
     "metadata": {},
     "output_type": "execute_result"
    }
   ],
   "source": [
    "method.default_morph_types"
   ]
  },
  {
   "cell_type": "code",
   "execution_count": 71,
   "metadata": {},
   "outputs": [],
   "source": [
    "method.add_input_data_morph(_id, [\"REBASE\", 11])"
   ]
  },
  {
   "cell_type": "code",
   "execution_count": 75,
   "metadata": {},
   "outputs": [
    {
     "data": {
      "text/plain": [
       "['CATEGORISE', 'DEBLANK', 'DEDUPE', 'DELETE', 'MELT', 'REBASE', 'RENAME']"
      ]
     },
     "execution_count": 75,
     "metadata": {},
     "output_type": "execute_result"
    }
   ],
   "source": [
    "method.default_morph_types"
   ]
  },
  {
   "cell_type": "code",
   "execution_count": 72,
   "metadata": {},
   "outputs": [],
   "source": [
    "# On obtient la valeur du dernier élément de l'index, puis on ajoute 1 pour créer l'intervalle\n",
    "rows = [int(i) for i in np.arange(180, df.index[-1]+1)]\n",
    "method.add_input_data_morph(_id, [\"DELETE\", rows])"
   ]
  },
  {
   "cell_type": "code",
   "execution_count": 76,
   "metadata": {},
   "outputs": [
    {
     "ename": "ValueError",
     "evalue": "Task morph `RENAME` has invalid structure `['column_names']`.",
     "output_type": "error",
     "traceback": [
      "\u001b[1;31m---------------------------------------------------------------------------\u001b[0m",
      "\u001b[1;31mValueError\u001b[0m                                Traceback (most recent call last)",
      "\u001b[1;32m<ipython-input-76-a5fc737c4c19>\u001b[0m in \u001b[0;36m<module>\u001b[1;34m\u001b[0m\n\u001b[0;32m     13\u001b[0m     \u001b[1;34m\"development level\"\u001b[0m\u001b[1;33m\u001b[0m\u001b[1;33m\u001b[0m\u001b[0m\n\u001b[0;32m     14\u001b[0m ]\n\u001b[1;32m---> 15\u001b[1;33m \u001b[0mmethod\u001b[0m\u001b[1;33m.\u001b[0m\u001b[0madd_input_data_morph\u001b[0m\u001b[1;33m(\u001b[0m\u001b[0m_id\u001b[0m\u001b[1;33m,\u001b[0m \u001b[1;33m[\u001b[0m\u001b[1;34m\"RENAME\"\u001b[0m\u001b[1;33m,\u001b[0m \u001b[0mcolumns\u001b[0m\u001b[1;33m]\u001b[0m\u001b[1;33m)\u001b[0m\u001b[1;33m\u001b[0m\u001b[1;33m\u001b[0m\u001b[0m\n\u001b[0m",
      "\u001b[1;32m~\\Anaconda3\\envs\\datascience\\lib\\site-packages\\whyqd\\method\\method.py\u001b[0m in \u001b[0;36madd_input_data_morph\u001b[1;34m(self, _id, new_morph)\u001b[0m\n\u001b[0;32m   1128\u001b[0m                         \u001b[0minput_source\u001b[0m \u001b[1;33m=\u001b[0m \u001b[0mself\u001b[0m\u001b[1;33m.\u001b[0m\u001b[0m_get_input_data_morph\u001b[0m\u001b[1;33m(\u001b[0m\u001b[0m_id\u001b[0m\u001b[1;33m)\u001b[0m\u001b[1;33m\u001b[0m\u001b[1;33m\u001b[0m\u001b[0m\n\u001b[0;32m   1129\u001b[0m                 \u001b[0mdf\u001b[0m \u001b[1;33m=\u001b[0m \u001b[0mself\u001b[0m\u001b[1;33m.\u001b[0m\u001b[0minput_dataframe\u001b[0m\u001b[1;33m(\u001b[0m\u001b[0m_id\u001b[0m\u001b[1;33m)\u001b[0m\u001b[1;33m\u001b[0m\u001b[1;33m\u001b[0m\u001b[0m\n\u001b[1;32m-> 1130\u001b[1;33m                 \u001b[0minput_source\u001b[0m\u001b[1;33m[\u001b[0m\u001b[1;34m\"morph\"\u001b[0m\u001b[1;33m]\u001b[0m \u001b[1;33m=\u001b[0m \u001b[0mself\u001b[0m\u001b[1;33m.\u001b[0m\u001b[0madd_morph\u001b[0m\u001b[1;33m(\u001b[0m\u001b[0mdf\u001b[0m\u001b[1;33m=\u001b[0m\u001b[0mdf\u001b[0m\u001b[1;33m,\u001b[0m \u001b[0mnew_morph\u001b[0m\u001b[1;33m=\u001b[0m\u001b[0mnew_morph\u001b[0m\u001b[1;33m,\u001b[0m \u001b[0mmorph_methods\u001b[0m\u001b[1;33m=\u001b[0m\u001b[0minput_source\u001b[0m\u001b[1;33m.\u001b[0m\u001b[0mget\u001b[0m\u001b[1;33m(\u001b[0m\u001b[1;34m\"morph\"\u001b[0m\u001b[1;33m)\u001b[0m\u001b[1;33m)\u001b[0m\u001b[1;33m\u001b[0m\u001b[1;33m\u001b[0m\u001b[0m\n\u001b[0m\u001b[0;32m   1131\u001b[0m                 \u001b[0mself\u001b[0m\u001b[1;33m.\u001b[0m\u001b[0m_set_input_data_morph\u001b[0m\u001b[1;33m(\u001b[0m\u001b[0minput_source\u001b[0m\u001b[1;33m)\u001b[0m\u001b[1;33m\u001b[0m\u001b[1;33m\u001b[0m\u001b[0m\n\u001b[0;32m   1132\u001b[0m \u001b[1;33m\u001b[0m\u001b[0m\n",
      "\u001b[1;32m~\\Anaconda3\\envs\\datascience\\lib\\site-packages\\whyqd\\method\\method.py\u001b[0m in \u001b[0;36madd_morph\u001b[1;34m(self, df, new_morph, morph_methods)\u001b[0m\n\u001b[0;32m   1251\u001b[0m                 \u001b[1;32mif\u001b[0m \u001b[1;32mnot\u001b[0m \u001b[0mmorph\u001b[0m\u001b[1;33m.\u001b[0m\u001b[0mvalidates\u001b[0m\u001b[1;33m(\u001b[0m\u001b[0mdf\u001b[0m\u001b[1;33m=\u001b[0m\u001b[0mdf\u001b[0m\u001b[1;33m,\u001b[0m \u001b[1;33m**\u001b[0m\u001b[0mparameters\u001b[0m\u001b[1;33m)\u001b[0m\u001b[1;33m:\u001b[0m\u001b[1;33m\u001b[0m\u001b[1;33m\u001b[0m\u001b[0m\n\u001b[0;32m   1252\u001b[0m                         \u001b[0me\u001b[0m \u001b[1;33m=\u001b[0m \u001b[1;34mF\"Task morph `{morph.name}` has invalid structure `{morph.structure}`.\"\u001b[0m\u001b[1;33m\u001b[0m\u001b[1;33m\u001b[0m\u001b[0m\n\u001b[1;32m-> 1253\u001b[1;33m                         \u001b[1;32mraise\u001b[0m \u001b[0mValueError\u001b[0m\u001b[1;33m(\u001b[0m\u001b[0me\u001b[0m\u001b[1;33m)\u001b[0m\u001b[1;33m\u001b[0m\u001b[1;33m\u001b[0m\u001b[0m\n\u001b[0m\u001b[0;32m   1254\u001b[0m                 \u001b[0mmorph_settings\u001b[0m \u001b[1;33m=\u001b[0m \u001b[0mmorph\u001b[0m\u001b[1;33m.\u001b[0m\u001b[0msettings\u001b[0m\u001b[1;33m\u001b[0m\u001b[1;33m\u001b[0m\u001b[0m\n\u001b[0;32m   1255\u001b[0m                 \u001b[0mmorph_settings\u001b[0m\u001b[1;33m[\u001b[0m\u001b[1;34m\"id\"\u001b[0m\u001b[1;33m]\u001b[0m \u001b[1;33m=\u001b[0m \u001b[0mstr\u001b[0m\u001b[1;33m(\u001b[0m\u001b[0muuid\u001b[0m\u001b[1;33m.\u001b[0m\u001b[0muuid4\u001b[0m\u001b[1;33m(\u001b[0m\u001b[1;33m)\u001b[0m\u001b[1;33m)\u001b[0m\u001b[1;33m\u001b[0m\u001b[1;33m\u001b[0m\u001b[0m\n",
      "\u001b[1;31mValueError\u001b[0m: Task morph `RENAME` has invalid structure `['column_names']`."
     ]
    }
   ],
   "source": [
    "columns = [\n",
    "    \"HDI_rank\",\n",
    "    \"Country\",\n",
    "    \"Gender-related development index Rank\",\n",
    "    \"Gender-related development index Value\",\n",
    "    \"Life expectancy at birth (years) 2005 Female\",\n",
    "    \"Life expectancy at birth (years) 2005 Male\",\n",
    "    \"Adult literacy ratea (% aged 15 and older) 1995-2005 Male\",\n",
    "    \"Combined gross enrolment ratio for primary, secondary and tertiary education (%) 2005 Female\",\n",
    "    \"Combined gross enrolment ratio for primary, secondary and tertiary education (%) 2005 Male\",\n",
    "    \"Estimated earned incomec (PPP US$) 2005 Female\",\"Estimated earned incomec (PPP US$) 2005 Male\",\n",
    "    \"HDI rank minus GDI rank\",\n",
    "    \"development level\"\n",
    "]\n",
    "method.add_input_data_morph(_id, [\"RENAME\", index(columns)])"
   ]
  },
  {
   "cell_type": "code",
   "execution_count": null,
   "metadata": {},
   "outputs": [],
   "source": [
    "df = method.input_dataframe(_id)\n",
    "df.head()"
   ]
  },
  {
   "cell_type": "code",
   "execution_count": null,
   "metadata": {},
   "outputs": [],
   "source": [
    "# Obtenir les indices des lignes de données catégorielles\n",
    "hdi_categories = [\"HIGH HUMAN DEVELOPMENT\", \"MEDIUM HUMAN DEVELOPMENT\", \"LOW HUMAN DEVELOPMENT\"]\n",
    "rows = df[df[\"HDI rank\"].isin(hdi_categories)].index\n",
    "method.add_input_data_morph(_id, [\"CATEGORISE\", list(rows), \"HDI category\"])"
   ]
  },
  {
   "cell_type": "code",
   "execution_count": 77,
   "metadata": {},
   "outputs": [
    {
     "data": {
      "text/plain": [
       "list"
      ]
     },
     "execution_count": 77,
     "metadata": {},
     "output_type": "execute_result"
    }
   ],
   "source": [
    "type(columns)"
   ]
  },
  {
   "cell_type": "code",
   "execution_count": null,
   "metadata": {},
   "outputs": [],
   "source": []
  }
 ],
 "metadata": {
  "kernelspec": {
   "display_name": "Python 3",
   "language": "python",
   "name": "python3"
  },
  "language_info": {
   "codemirror_mode": {
    "name": "ipython",
    "version": 3
   },
   "file_extension": ".py",
   "mimetype": "text/x-python",
   "name": "python",
   "nbconvert_exporter": "python",
   "pygments_lexer": "ipython3",
   "version": "3.7.7"
  }
 },
 "nbformat": 4,
 "nbformat_minor": 4
}
